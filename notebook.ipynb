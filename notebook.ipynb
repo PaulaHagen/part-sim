{
 "cells": [
  {
   "cell_type": "markdown",
   "id": "1a442a56",
   "metadata": {},
   "source": [
    "# Trying out MPE2 simple (base model)"
   ]
  },
  {
   "cell_type": "markdown",
   "id": "525da123",
   "metadata": {},
   "source": [
    "First, let's start with the general framework for running the experiment. The simple environment has only one agent and one landmark. First, let's try a random action.\n",
    "It should open a window with one moving particle and a \"landmark\"."
   ]
  },
  {
   "cell_type": "code",
   "execution_count": null,
   "id": "90e5b159",
   "metadata": {},
   "outputs": [],
   "source": [
    "# Using the \"simple\" environment from the multi-agent-particle-envs (mpe2) package as a template\n",
    "from mpe2 import simple_v3\n",
    "env = simple_v3.env(max_cycles=100, render_mode='human')\n",
    "\n",
    "env.reset() # Do seed=42 for reproducibility\n",
    "for agent in env.agent_iter():\n",
    "    observation, reward, termination, truncation, info = env.last()\n",
    "\n",
    "    if termination or truncation:\n",
    "        action = None\n",
    "    else:\n",
    "        action = env.action_space(agent).sample() # this is where you would insert your policy\n",
    "\n",
    "    env.step(action)\n",
    "env.close()"
   ]
  },
  {
   "cell_type": "markdown",
   "id": "2e6be988",
   "metadata": {},
   "source": [
    "Now, let's try with our own environment particle_v1 that is within this project. We have multiple agents and can also define more food sources (landmarks), which are marked in orange."
   ]
  },
  {
   "cell_type": "code",
   "execution_count": null,
   "id": "67604150",
   "metadata": {},
   "outputs": [
    {
     "name": "stderr",
     "output_type": "stream",
     "text": [
      "/Users/paula/.pyenv/versions/part-sim/lib/python3.12/site-packages/pygame/pkgdata.py:25: UserWarning: pkg_resources is deprecated as an API. See https://setuptools.pypa.io/en/latest/pkg_resources.html. The pkg_resources package is slated for removal as early as 2025-11-30. Refrain from using this package or pin to Setuptools<81.\n",
      "  from pkg_resources import resource_stream, resource_exists\n"
     ]
    },
    {
     "ename": "",
     "evalue": "",
     "output_type": "error",
     "traceback": [
      "\u001b[1;31mThe Kernel crashed while executing code in the current cell or a previous cell. \n",
      "\u001b[1;31mPlease review the code in the cell(s) to identify a possible cause of the failure. \n",
      "\u001b[1;31mClick <a href='https://aka.ms/vscodeJupyterKernelCrash'>here</a> for more info. \n",
      "\u001b[1;31mView Jupyter <a href='command:jupyter.viewOutput'>log</a> for further details."
     ]
    }
   ],
   "source": [
    "import particle_v1\n",
    "env = particle_v1.env(num_agents=10, num_food_sources=1, flow = 'none', max_cycles=25, render_mode='human')\n",
    "\n",
    "env.reset() # Do seed=42 for reproducibility\n",
    "for agent in env.agent_iter():\n",
    "    observation, reward, termination, truncation, info = env.last()\n",
    "\n",
    "    if termination or truncation:\n",
    "        action = None\n",
    "    else:\n",
    "        action = env.action_space(agent).sample() # this is where you would insert your policy\n",
    "\n",
    "    env.step(action)\n",
    "env.close()"
   ]
  }
 ],
 "metadata": {
  "kernelspec": {
   "display_name": "part-sim",
   "language": "python",
   "name": "python3"
  },
  "language_info": {
   "codemirror_mode": {
    "name": "ipython",
    "version": 3
   },
   "file_extension": ".py",
   "mimetype": "text/x-python",
   "name": "python",
   "nbconvert_exporter": "python",
   "pygments_lexer": "ipython3",
   "version": "3.13.7"
  }
 },
 "nbformat": 4,
 "nbformat_minor": 5
}
