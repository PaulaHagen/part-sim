{
 "cells": [
  {
   "cell_type": "markdown",
   "id": "1a442a56",
   "metadata": {},
   "source": [
    "# Trying out MPE2 simple (base model)"
   ]
  },
  {
   "cell_type": "markdown",
   "id": "525da123",
   "metadata": {},
   "source": [
    "First, let's start with the general framework for running the experiment. The simple environment has only one agent and one landmark. They have random color. First, let's try a random action."
   ]
  },
  {
   "cell_type": "code",
   "execution_count": null,
   "id": "90e5b159",
   "metadata": {},
   "outputs": [],
   "source": [
    "\n",
    "from mpe2 import simple_v3\n",
    "env = simple_v3.env(max_cycles=100, render_mode='human')\n",
    "\n",
    "env.reset() # Do seed=42 for reproducibility\n",
    "for agent in env.agent_iter():\n",
    "    observation, reward, termination, truncation, info = env.last()\n",
    "\n",
    "    if termination or truncation:\n",
    "        action = None\n",
    "    else:\n",
    "        action = env.action_space(agent).sample() # this is where you would insert your policy\n",
    "\n",
    "    env.step(action)\n",
    "env.close()"
   ]
  },
  {
   "cell_type": "markdown",
   "id": "2e6be988",
   "metadata": {},
   "source": [
    "Now, let's try with our own environment particle_v1:"
   ]
  },
  {
   "cell_type": "code",
   "execution_count": null,
   "id": "67604150",
   "metadata": {},
   "outputs": [],
   "source": [
    "import particle_v1\n",
    "env = particle_v1.env(num_agents=10, num_food_sources=1, flow = 'none', max_cycles=25, render_mode='human')\n",
    "\n",
    "env.reset() # Do seed=42 for reproducibility\n",
    "for agent in env.agent_iter():\n",
    "    observation, reward, termination, truncation, info = env.last()\n",
    "\n",
    "    if termination or truncation:\n",
    "        action = None\n",
    "    else:\n",
    "        action = env.action_space(agent).sample() # this is where you would insert your policy\n",
    "\n",
    "    env.step(action)\n",
    "env.close()"
   ]
  }
 ],
 "metadata": {
  "kernelspec": {
   "display_name": "part-sim",
   "language": "python",
   "name": "python3"
  },
  "language_info": {
   "codemirror_mode": {
    "name": "ipython",
    "version": 3
   },
   "file_extension": ".py",
   "mimetype": "text/x-python",
   "name": "python",
   "nbconvert_exporter": "python",
   "pygments_lexer": "ipython3",
   "version": "3.13.7"
  }
 },
 "nbformat": 4,
 "nbformat_minor": 5
}
